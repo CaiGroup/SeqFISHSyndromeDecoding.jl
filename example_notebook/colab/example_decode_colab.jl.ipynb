{
 "cells": [
  {
   "cell_type": "markdown",
   "id": "0535e5e9",
   "metadata": {},
   "source": [
    "# Decoding Example\n",
    "\n",
    "This google colab compatible jupyter notebooks contains an example for how to decode data from the original [RNA SeqFISH+ paper](https://doi.org/10.1038/s41586-019-1049-y).\n",
    "\n",
    "## Instructions\n",
    "To run this notebook, you will need to change to the Julia runtime environment. To do that select from the drop down menu:\n",
    "\n",
    "Runtime > Change runtime type\n",
    "\n",
    "In the \"Change runtime type\"  prompt window, select \"Julia\" (not julia x.xx.xx) from the Runtime type drop-down menu. Click Save.\n",
    "\n",
    "*note: this example was generated using data and a jupyter notebook that are freely available at the [SeqFISHSyndromeDecoding github repository](https://github.com/CaiGroup/SeqFISHSyndromeDecoding) and can be run on [google colab](https://colab.research.google.com/github/CaiGroup/SeqFISHSyndromeDecoding.jl/blob/master/example_notebook/colab/example_decode_colab.jl.ipynb)*"
   ]
  },
  {
   "cell_type": "code",
   "execution_count": null,
   "id": "881697f4",
   "metadata": {},
   "outputs": [
    {
     "name": "stderr",
     "output_type": "stream",
     "text": [
      "\u001b[32m\u001b[1m  Activating\u001b[22m\u001b[39m project at `d:\\SeqFISH+Processing_project\\SeqFISHSyndromeDecoding\\example_notebook`\n"
     ]
    }
   ],
   "source": [
    "using Pkg\n",
    "Pkg.add(name=\"DataFrames\")\n",
    "Pkg.add(name=\"GLPK\")\n",
    "Pkg.add(url=\"https://github.com/CaiGroup/SeqFISHSyndromeDecoding.jl\")\n",
    "using DataFrames\n",
    "using CSV\n",
    "using SeqFISHSyndromeDecoding\n",
    "using GLPK\n",
    "using Downloads"
   ]
  },
  {
   "cell_type": "markdown",
   "id": "846a280a",
   "metadata": {},
   "source": [
    "This notebook shows demonstrates how to use SeqFISHSyndromeDecoding. The example data was taken from the 561 channel of cell number 8 in position 4 of replicate 2 of the 2019 SeqFISH+ NIH3T3 cell experiment. This particular subset of the data was chosen for its small size.\n",
    "\n",
    "First load the codebook that we will use to decode our sample data."
   ]
  },
  {
   "cell_type": "code",
   "execution_count": null,
   "id": "d11d34d3",
   "metadata": {},
   "outputs": [
    {
     "data": {
      "text/html": [
       "<div><div style = \"float: left;\"><span>5×5 DataFrame</span></div><div style = \"clear: both;\"></div></div><div class = \"data-frame\" style = \"overflow-x: scroll;\"><table class = \"data-frame\" style = \"margin-bottom: 6px;\"><thead><tr class = \"header\"><th class = \"rowNumber\" style = \"font-weight: bold; text-align: right;\">Row</th><th style = \"text-align: left;\">gene</th><th style = \"text-align: left;\">block1</th><th style = \"text-align: left;\">block2</th><th style = \"text-align: left;\">block3</th><th style = \"text-align: left;\">block4</th></tr><tr class = \"subheader headerLastRow\"><th class = \"rowNumber\" style = \"font-weight: bold; text-align: right;\"></th><th title = \"String31\" style = \"text-align: left;\">String31</th><th title = \"Int64\" style = \"text-align: left;\">Int64</th><th title = \"Int64\" style = \"text-align: left;\">Int64</th><th title = \"Int64\" style = \"text-align: left;\">Int64</th><th title = \"Int64\" style = \"text-align: left;\">Int64</th></tr></thead><tbody><tr><td class = \"rowNumber\" style = \"font-weight: bold; text-align: right;\">1</td><td style = \"text-align: left;\">Atp6v0e2</td><td style = \"text-align: right;\">17</td><td style = \"text-align: right;\">16</td><td style = \"text-align: right;\">13</td><td style = \"text-align: right;\">0</td></tr><tr><td class = \"rowNumber\" style = \"font-weight: bold; text-align: right;\">2</td><td style = \"text-align: left;\">Pclo</td><td style = \"text-align: right;\">14</td><td style = \"text-align: right;\">14</td><td style = \"text-align: right;\">4</td><td style = \"text-align: right;\">4</td></tr><tr><td class = \"rowNumber\" style = \"font-weight: bold; text-align: right;\">3</td><td style = \"text-align: left;\">Higd1a</td><td style = \"text-align: right;\">0</td><td style = \"text-align: right;\">1</td><td style = \"text-align: right;\">1</td><td style = \"text-align: right;\">0</td></tr><tr><td class = \"rowNumber\" style = \"font-weight: bold; text-align: right;\">4</td><td style = \"text-align: left;\">Srrm1</td><td style = \"text-align: right;\">6</td><td style = \"text-align: right;\">14</td><td style = \"text-align: right;\">4</td><td style = \"text-align: right;\">16</td></tr><tr><td class = \"rowNumber\" style = \"font-weight: bold; text-align: right;\">5</td><td style = \"text-align: left;\">Mapk8ip3</td><td style = \"text-align: right;\">14</td><td style = \"text-align: right;\">19</td><td style = \"text-align: right;\">13</td><td style = \"text-align: right;\">0</td></tr></tbody></table></div>"
      ],
      "text/latex": [
       "\\begin{tabular}{r|ccccc}\n",
       "\t& gene & block1 & block2 & block3 & block4\\\\\n",
       "\t\\hline\n",
       "\t& String31 & Int64 & Int64 & Int64 & Int64\\\\\n",
       "\t\\hline\n",
       "\t1 & Atp6v0e2 & 17 & 16 & 13 & 0 \\\\\n",
       "\t2 & Pclo & 14 & 14 & 4 & 4 \\\\\n",
       "\t3 & Higd1a & 0 & 1 & 1 & 0 \\\\\n",
       "\t4 & Srrm1 & 6 & 14 & 4 & 16 \\\\\n",
       "\t5 & Mapk8ip3 & 14 & 19 & 13 & 0 \\\\\n",
       "\\end{tabular}\n"
      ],
      "text/plain": [
       "\u001b[1m5×5 DataFrame\u001b[0m\n",
       "\u001b[1m Row \u001b[0m│\u001b[1m gene     \u001b[0m\u001b[1m block1 \u001b[0m\u001b[1m block2 \u001b[0m\u001b[1m block3 \u001b[0m\u001b[1m block4 \u001b[0m\n",
       "     │\u001b[90m String31 \u001b[0m\u001b[90m Int64  \u001b[0m\u001b[90m Int64  \u001b[0m\u001b[90m Int64  \u001b[0m\u001b[90m Int64  \u001b[0m\n",
       "─────┼──────────────────────────────────────────\n",
       "   1 │ Atp6v0e2      17      16      13       0\n",
       "   2 │ Pclo          14      14       4       4\n",
       "   3 │ Higd1a         0       1       1       0\n",
       "   4 │ Srrm1          6      14       4      16\n",
       "   5 │ Mapk8ip3      14      19      13       0"
      ]
     },
     "execution_count": 28,
     "metadata": {},
     "output_type": "execute_result"
    }
   ],
   "source": [
    "cb = DataFrame(CSV.File(Downloads.download(\"https://raw.githubusercontent.com/CaiGroup/SeqFISHSyndromeDecoding.jl/refs/heads/master/example_data/codebook_ch_561.csv\")))\n",
    "first(cb, 5)"
   ]
  },
  {
   "cell_type": "markdown",
   "id": "cd1c0a51",
   "metadata": {},
   "source": [
    "Define the [parity check matrix](https://en.wikipedia.org/wiki/Parity-check_matrix) for the codebook"
   ]
  },
  {
   "cell_type": "code",
   "execution_count": 29,
   "id": "e74d8a60",
   "metadata": {},
   "outputs": [
    {
     "data": {
      "text/plain": [
       "1×4 Matrix{Int64}:\n",
       " 1  1  -1  -1"
      ]
     },
     "execution_count": 29,
     "metadata": {},
     "output_type": "execute_result"
    }
   ],
   "source": [
    "H = [1 1 -1 -1;]"
   ]
  },
  {
   "cell_type": "markdown",
   "id": "17502778",
   "metadata": {},
   "source": [
    "We can verify that H is actually the parity check matrix of the codebook."
   ]
  },
  {
   "cell_type": "code",
   "execution_count": 30,
   "id": "7a910bcd",
   "metadata": {},
   "outputs": [
    {
     "data": {
      "text/plain": [
       "true"
      ]
     },
     "execution_count": 30,
     "metadata": {},
     "output_type": "execute_result"
    }
   ],
   "source": [
    "all(H * Matrix(cb[:,2:end])' .% 20 .== 0)"
   ]
  },
  {
   "cell_type": "markdown",
   "id": "1e1b106a",
   "metadata": {},
   "source": [
    "Next we can load the aligned points from each hybridization for our example cell."
   ]
  },
  {
   "cell_type": "code",
   "execution_count": null,
   "id": "e6e977fc",
   "metadata": {},
   "outputs": [
    {
     "data": {
      "text/html": [
       "<div><div style = \"float: left;\"><span>5×5 DataFrame</span></div><div style = \"clear: both;\"></div></div><div class = \"data-frame\" style = \"overflow-x: scroll;\"><table class = \"data-frame\" style = \"margin-bottom: 6px;\"><thead><tr class = \"header\"><th class = \"rowNumber\" style = \"font-weight: bold; text-align: right;\">Row</th><th style = \"text-align: left;\">hyb</th><th style = \"text-align: left;\">x</th><th style = \"text-align: left;\">y</th><th style = \"text-align: left;\">s</th><th style = \"text-align: left;\">w</th></tr><tr class = \"subheader headerLastRow\"><th class = \"rowNumber\" style = \"font-weight: bold; text-align: right;\"></th><th title = \"Int64\" style = \"text-align: left;\">Int64</th><th title = \"Float64\" style = \"text-align: left;\">Float64</th><th title = \"Float64\" style = \"text-align: left;\">Float64</th><th title = \"Float64\" style = \"text-align: left;\">Float64</th><th title = \"Float64\" style = \"text-align: left;\">Float64</th></tr></thead><tbody><tr><td class = \"rowNumber\" style = \"font-weight: bold; text-align: right;\">1</td><td style = \"text-align: right;\">1</td><td style = \"text-align: right;\">767.664</td><td style = \"text-align: right;\">1463.64</td><td style = \"text-align: right;\">1.22</td><td style = \"text-align: right;\">633.14</td></tr><tr><td class = \"rowNumber\" style = \"font-weight: bold; text-align: right;\">2</td><td style = \"text-align: right;\">1</td><td style = \"text-align: right;\">759.413</td><td style = \"text-align: right;\">1534.17</td><td style = \"text-align: right;\">1.22</td><td style = \"text-align: right;\">1118.99</td></tr><tr><td class = \"rowNumber\" style = \"font-weight: bold; text-align: right;\">3</td><td style = \"text-align: right;\">1</td><td style = \"text-align: right;\">757.458</td><td style = \"text-align: right;\">1501.22</td><td style = \"text-align: right;\">1.22</td><td style = \"text-align: right;\">866.506</td></tr><tr><td class = \"rowNumber\" style = \"font-weight: bold; text-align: right;\">4</td><td style = \"text-align: right;\">1</td><td style = \"text-align: right;\">808.817</td><td style = \"text-align: right;\">1400.84</td><td style = \"text-align: right;\">1.22</td><td style = \"text-align: right;\">1292.37</td></tr><tr><td class = \"rowNumber\" style = \"font-weight: bold; text-align: right;\">5</td><td style = \"text-align: right;\">1</td><td style = \"text-align: right;\">804.688</td><td style = \"text-align: right;\">1448.16</td><td style = \"text-align: right;\">1.22</td><td style = \"text-align: right;\">1734.99</td></tr></tbody></table></div>"
      ],
      "text/latex": [
       "\\begin{tabular}{r|ccccc}\n",
       "\t& hyb & x & y & s & w\\\\\n",
       "\t\\hline\n",
       "\t& Int64 & Float64 & Float64 & Float64 & Float64\\\\\n",
       "\t\\hline\n",
       "\t1 & 1 & 767.664 & 1463.64 & 1.22 & 633.14 \\\\\n",
       "\t2 & 1 & 759.413 & 1534.17 & 1.22 & 1118.99 \\\\\n",
       "\t3 & 1 & 757.458 & 1501.22 & 1.22 & 866.506 \\\\\n",
       "\t4 & 1 & 808.817 & 1400.84 & 1.22 & 1292.37 \\\\\n",
       "\t5 & 1 & 804.688 & 1448.16 & 1.22 & 1734.99 \\\\\n",
       "\\end{tabular}\n"
      ],
      "text/plain": [
       "\u001b[1m5×5 DataFrame\u001b[0m\n",
       "\u001b[1m Row \u001b[0m│\u001b[1m hyb   \u001b[0m\u001b[1m x       \u001b[0m\u001b[1m y       \u001b[0m\u001b[1m s       \u001b[0m\u001b[1m w        \u001b[0m\n",
       "     │\u001b[90m Int64 \u001b[0m\u001b[90m Float64 \u001b[0m\u001b[90m Float64 \u001b[0m\u001b[90m Float64 \u001b[0m\u001b[90m Float64  \u001b[0m\n",
       "─────┼────────────────────────────────────────────\n",
       "   1 │     1  767.664  1463.64     1.22   633.14\n",
       "   2 │     1  759.413  1534.17     1.22  1118.99\n",
       "   3 │     1  757.458  1501.22     1.22   866.506\n",
       "   4 │     1  808.817  1400.84     1.22  1292.37\n",
       "   5 │     1  804.688  1448.16     1.22  1734.99"
      ]
     },
     "execution_count": 31,
     "metadata": {},
     "output_type": "execute_result"
    }
   ],
   "source": [
    "pnts = DataFrame(CSV.File(Downloads.download(\"https://raw.githubusercontent.com/CaiGroup/SeqFISHSyndromeDecoding.jl/refs/heads/master/example_data/example_cell_points.csv\")))\n",
    "first(pnts, 5)"
   ]
  },
  {
   "cell_type": "markdown",
   "id": "bdeab0ab",
   "metadata": {},
   "source": [
    "The SeqFISHSyndromeDecoding package requires that they hybridization column be UInt8s (to increase efficiency), and that\n",
    "there be a z column (for generality to 3d data)"
   ]
  },
  {
   "cell_type": "code",
   "execution_count": 32,
   "id": "25b28a31",
   "metadata": {},
   "outputs": [],
   "source": [
    "pnts.z = zeros(Float64, nrow(pnts))\n",
    "pnts.hyb = UInt8.(pnts.hyb);"
   ]
  },
  {
   "cell_type": "markdown",
   "id": "7d2e4a99",
   "metadata": {},
   "source": [
    "Next we initialize a ```DecodeParams``` object, and set the parameters"
   ]
  },
  {
   "cell_type": "code",
   "execution_count": 33,
   "id": "b4bbac59",
   "metadata": {},
   "outputs": [],
   "source": [
    "params = DecodeParams()\n",
    "\n",
    "set_lat_var_cost_coeff(params, 8.0)\n",
    "set_z_var_cost_coeff(params, 0.0)\n",
    "set_lw_var_cost_coeff(params, 3.2)\n",
    "set_s_var_cost_coeff(params, 0.0)\n",
    "set_free_dot_cost(params, 1.0)\n",
    "\n",
    "set_xy_search_radius(params, sqrt(size(H)[2]/6.0)*3)\n",
    "set_z_search_radius(params, 0.0);"
   ]
  },
  {
   "cell_type": "markdown",
   "id": "a598d72c",
   "metadata": {},
   "source": [
    "We can then decode"
   ]
  },
  {
   "cell_type": "code",
   "execution_count": 34,
   "id": "02037dc8",
   "metadata": {},
   "outputs": [
    {
     "name": "stdout",
     "output_type": "stream",
     "text": [
      "\u001b[1m5×6 DataFrame\u001b[0m\n",
      "\u001b[1m Row \u001b[0m│\u001b[1m cpath                      \u001b[0m\u001b[1m cost     \u001b[0m\u001b[1m gene_number \u001b[0m\u001b[1m x       \u001b[0m\u001b[1m y       \u001b[0m\u001b[1m z   \u001b[0m\n",
      "     │\u001b[90m Any                        \u001b[0m\u001b[90m Any      \u001b[0m\u001b[90m Any         \u001b[0m\u001b[90m Any     \u001b[0m\u001b[90m Any     \u001b[0m\u001b[90m Any \u001b[0m\n",
      "─────┼──────────────────────────────────────────────────────────────────────────\n",
      "   1 │ [2425, 8268, 10674, 12717]  1.49284   1066         756.288  1461.89  0.0\n",
      "   2 │ [609, 7738, 10376, 14851]   2.51794   779          754.733  1469.27  0.0\n",
      "   3 │ [884, 5309, 9951, 13425]    1.5475    1790         754.37   1475.42  0.0\n",
      "   4 │ [2424, 7349, 10938, 15707]  2.62614   923          756.263  1485.94  0.0\n",
      "   5 │ [86, 5513, 11990, 14538]    0.890877  593          753.649  1487.59  0.0\n"
     ]
    },
    {
     "data": {
      "text/html": [
       "<div><div style = \"float: left;\"><span>5×9 DataFrame</span></div><div style = \"clear: both;\"></div></div><div class = \"data-frame\" style = \"overflow-x: scroll;\"><table class = \"data-frame\" style = \"margin-bottom: 6px;\"><thead><tr class = \"header\"><th class = \"rowNumber\" style = \"font-weight: bold; text-align: right;\">Row</th><th style = \"text-align: left;\">gene</th><th style = \"text-align: left;\">gene_number</th><th style = \"text-align: left;\">cpath</th><th style = \"text-align: left;\">cost</th><th style = \"text-align: left;\">x</th><th style = \"text-align: left;\">y</th><th style = \"text-align: left;\">z</th><th style = \"text-align: left;\">cc</th><th style = \"text-align: left;\">cc_size</th></tr><tr class = \"subheader headerLastRow\"><th class = \"rowNumber\" style = \"font-weight: bold; text-align: right;\"></th><th title = \"Union{Missing, String31}\" style = \"text-align: left;\">String31?</th><th title = \"Any\" style = \"text-align: left;\">Any</th><th title = \"Any\" style = \"text-align: left;\">Any</th><th title = \"Float64\" style = \"text-align: left;\">Float64</th><th title = \"Any\" style = \"text-align: left;\">Any</th><th title = \"Any\" style = \"text-align: left;\">Any</th><th title = \"Any\" style = \"text-align: left;\">Any</th><th title = \"Int64\" style = \"text-align: left;\">Int64</th><th title = \"Int64\" style = \"text-align: left;\">Int64</th></tr></thead><tbody><tr><td class = \"rowNumber\" style = \"font-weight: bold; text-align: right;\">1</td><td style = \"text-align: left;\">Srp68</td><td style = \"text-align: left;\">734</td><td style = \"text-align: left;\">[2, 6958, 10677, 13228]</td><td style = \"text-align: right;\">2.049</td><td style = \"text-align: left;\">759.431</td><td style = \"text-align: left;\">1534.0</td><td style = \"text-align: left;\">0.0</td><td style = \"text-align: right;\">1</td><td style = \"text-align: right;\">1</td></tr><tr><td class = \"rowNumber\" style = \"font-weight: bold; text-align: right;\">2</td><td style = \"text-align: left;\">Rbm28</td><td style = \"text-align: left;\">452</td><td style = \"text-align: left;\">[9, 5343, 10954, 15545]</td><td style = \"text-align: right;\">0.754996</td><td style = \"text-align: left;\">783.107</td><td style = \"text-align: left;\">1541.98</td><td style = \"text-align: left;\">0.0</td><td style = \"text-align: right;\">2</td><td style = \"text-align: right;\">1</td></tr><tr><td class = \"rowNumber\" style = \"font-weight: bold; text-align: right;\">3</td><td style = \"text-align: left;\">negative_control</td><td style = \"text-align: left;\">7734</td><td style = \"text-align: left;\">[13, 4282, 9827, 15554]</td><td style = \"text-align: right;\">1.63603</td><td style = \"text-align: left;\">789.039</td><td style = \"text-align: left;\">1464.92</td><td style = \"text-align: left;\">0.0</td><td style = \"text-align: right;\">3</td><td style = \"text-align: right;\">3</td></tr><tr><td class = \"rowNumber\" style = \"font-weight: bold; text-align: right;\">4</td><td style = \"text-align: left;\">negative_control</td><td style = \"text-align: left;\">4556</td><td style = \"text-align: left;\">[2601, 7382, 9609, 13260]</td><td style = \"text-align: right;\">2.79726</td><td style = \"text-align: left;\">788.941</td><td style = \"text-align: left;\">1465.46</td><td style = \"text-align: left;\">0.0</td><td style = \"text-align: right;\">3</td><td style = \"text-align: right;\">3</td></tr><tr><td class = \"rowNumber\" style = \"font-weight: bold; text-align: right;\">5</td><td style = \"text-align: left;\">Eif2b1</td><td style = \"text-align: left;\">833</td><td style = \"text-align: left;\">[16, 7582, 11320, 12966]</td><td style = \"text-align: right;\">3.32181</td><td style = \"text-align: left;\">795.092</td><td style = \"text-align: left;\">1522.84</td><td style = \"text-align: left;\">0.0</td><td style = \"text-align: right;\">4</td><td style = \"text-align: right;\">1</td></tr></tbody></table></div>"
      ],
      "text/latex": [
       "\\begin{tabular}{r|ccccccc}\n",
       "\t& gene & gene\\_number & cpath & cost & x & y & \\\\\n",
       "\t\\hline\n",
       "\t& String31? & Any & Any & Float64 & Any & Any & \\\\\n",
       "\t\\hline\n",
       "\t1 & Srp68 & 734 & [2, 6958, 10677, 13228] & 2.049 & 759.431 & 1534.0 & $\\dots$ \\\\\n",
       "\t2 & Rbm28 & 452 & [9, 5343, 10954, 15545] & 0.754996 & 783.107 & 1541.98 & $\\dots$ \\\\\n",
       "\t3 & negative\\_control & 7734 & [13, 4282, 9827, 15554] & 1.63603 & 789.039 & 1464.92 & $\\dots$ \\\\\n",
       "\t4 & negative\\_control & 4556 & [2601, 7382, 9609, 13260] & 2.79726 & 788.941 & 1465.46 & $\\dots$ \\\\\n",
       "\t5 & Eif2b1 & 833 & [16, 7582, 11320, 12966] & 3.32181 & 795.092 & 1522.84 & $\\dots$ \\\\\n",
       "\\end{tabular}\n"
      ],
      "text/plain": [
       "\u001b[1m5×9 DataFrame\u001b[0m\n",
       "\u001b[1m Row \u001b[0m│\u001b[1m gene             \u001b[0m\u001b[1m gene_number \u001b[0m\u001b[1m cpath                     \u001b[0m\u001b[1m cost     \u001b[0m\u001b[1m x  \u001b[0m ⋯\n",
       "     │\u001b[90m String31?        \u001b[0m\u001b[90m Any         \u001b[0m\u001b[90m Any                       \u001b[0m\u001b[90m Float64  \u001b[0m\u001b[90m Any\u001b[0m ⋯\n",
       "─────┼──────────────────────────────────────────────────────────────────────────\n",
       "   1 │ Srp68             734          [2, 6958, 10677, 13228]    2.049     759 ⋯\n",
       "   2 │ Rbm28             452          [9, 5343, 10954, 15545]    0.754996  783\n",
       "   3 │ negative_control  7734         [13, 4282, 9827, 15554]    1.63603   789\n",
       "   4 │ negative_control  4556         [2601, 7382, 9609, 13260]  2.79726   788\n",
       "   5 │ Eif2b1            833          [16, 7582, 11320, 12966]   3.32181   795 ⋯\n",
       "\u001b[36m                                                               5 columns omitted\u001b[0m"
      ]
     },
     "execution_count": 34,
     "metadata": {},
     "output_type": "execute_result"
    }
   ],
   "source": [
    "barcodes = decode_syndromes!(pnts, cb, H, params)\n",
    "first(barcodes, 5)"
   ]
  },
  {
   "cell_type": "markdown",
   "id": "58d6b6c1",
   "metadata": {},
   "source": [
    "Alternatively, if we aren't sure what parameters we want to use, we can save time by splitting decode_syndromes! into its two steps. First we can identify barcode candidates with the ```get_codepaths``` (named for the paths that candidate barcodes take the the decoding graph in figure 1a) function using the least strict parameter set that we are interested in."
   ]
  },
  {
   "cell_type": "code",
   "execution_count": 35,
   "id": "49f824de",
   "metadata": {},
   "outputs": [
    {
     "name": "stdout",
     "output_type": "stream",
     "text": [
      "\u001b[1m5×6 DataFrame\u001b[0m\n",
      "\u001b[1m Row \u001b[0m│\u001b[1m cpath                      \u001b[0m\u001b[1m cost     \u001b[0m\u001b[1m gene_number \u001b[0m\u001b[1m x       \u001b[0m\u001b[1m y       \u001b[0m\u001b[1m z   \u001b[0m\n",
      "     │\u001b[90m Any                        \u001b[0m\u001b[90m Any      \u001b[0m\u001b[90m Any         \u001b[0m\u001b[90m Any     \u001b[0m\u001b[90m Any     \u001b[0m\u001b[90m Any \u001b[0m\n",
      "─────┼──────────────────────────────────────────────────────────────────────────\n",
      "   1 │ [2425, 8268, 10674, 12717]  1.49284   1066         756.288  1461.89  0.0\n",
      "   2 │ [609, 7738, 10376, 14851]   2.51794   779          754.733  1469.27  0.0\n",
      "   3 │ [884, 5309, 9951, 13425]    1.5475    1790         754.37   1475.42  0.0\n",
      "   4 │ [2424, 7349, 10938, 15707]  2.62614   923          756.263  1485.94  0.0\n",
      "   5 │ [86, 5513, 11990, 14538]    0.890877  593          753.649  1487.59  0.0\n"
     ]
    },
    {
     "data": {
      "text/html": [
       "<div><div style = \"float: left;\"><span>5×7 DataFrame</span></div><div style = \"clear: both;\"></div></div><div class = \"data-frame\" style = \"overflow-x: scroll;\"><table class = \"data-frame\" style = \"margin-bottom: 6px;\"><thead><tr class = \"header\"><th class = \"rowNumber\" style = \"font-weight: bold; text-align: right;\">Row</th><th style = \"text-align: left;\">gene</th><th style = \"text-align: left;\">gene_number</th><th style = \"text-align: left;\">cpath</th><th style = \"text-align: left;\">cost</th><th style = \"text-align: left;\">x</th><th style = \"text-align: left;\">y</th><th style = \"text-align: left;\">z</th></tr><tr class = \"subheader headerLastRow\"><th class = \"rowNumber\" style = \"font-weight: bold; text-align: right;\"></th><th title = \"Union{Missing, String31}\" style = \"text-align: left;\">String31?</th><th title = \"Any\" style = \"text-align: left;\">Any</th><th title = \"Any\" style = \"text-align: left;\">Any</th><th title = \"Any\" style = \"text-align: left;\">Any</th><th title = \"Any\" style = \"text-align: left;\">Any</th><th title = \"Any\" style = \"text-align: left;\">Any</th><th title = \"Any\" style = \"text-align: left;\">Any</th></tr></thead><tbody><tr><td class = \"rowNumber\" style = \"font-weight: bold; text-align: right;\">1</td><td style = \"text-align: left;\">Higd1a</td><td style = \"text-align: left;\">3</td><td style = \"text-align: left;\">[4049, 4233, 8660, 16526]</td><td style = \"text-align: left;\">1.06754</td><td style = \"text-align: left;\">990.275</td><td style = \"text-align: left;\">1517.47</td><td style = \"text-align: left;\">0.0</td></tr><tr><td class = \"rowNumber\" style = \"font-weight: bold; text-align: right;\">2</td><td style = \"text-align: left;\">Srrm1</td><td style = \"text-align: left;\">4</td><td style = \"text-align: left;\">[891, 6962, 9173, 15526]</td><td style = \"text-align: left;\">2.14305</td><td style = \"text-align: left;\">764.521</td><td style = \"text-align: left;\">1474.04</td><td style = \"text-align: left;\">0.0</td></tr><tr><td class = \"rowNumber\" style = \"font-weight: bold; text-align: right;\">3</td><td style = \"text-align: left;\">Srrm1</td><td style = \"text-align: left;\">4</td><td style = \"text-align: left;\">[1067, 7062, 9276, 15629]</td><td style = \"text-align: left;\">0.241011</td><td style = \"text-align: left;\">869.379</td><td style = \"text-align: left;\">1540.38</td><td style = \"text-align: left;\">0.0</td></tr><tr><td class = \"rowNumber\" style = \"font-weight: bold; text-align: right;\">4</td><td style = \"text-align: left;\">Srrm1</td><td style = \"text-align: left;\">4</td><td style = \"text-align: left;\">[1072, 7067, 9281, 15632]</td><td style = \"text-align: left;\">1.17522</td><td style = \"text-align: left;\">873.084</td><td style = \"text-align: left;\">1535.57</td><td style = \"text-align: left;\">0.0</td></tr><tr><td class = \"rowNumber\" style = \"font-weight: bold; text-align: right;\">5</td><td style = \"text-align: left;\">Srrm1</td><td style = \"text-align: left;\">4</td><td style = \"text-align: left;\">[1084, 7076, 9291, 15645]</td><td style = \"text-align: left;\">2.8198</td><td style = \"text-align: left;\">882.568</td><td style = \"text-align: left;\">1479.06</td><td style = \"text-align: left;\">0.0</td></tr></tbody></table></div>"
      ],
      "text/latex": [
       "\\begin{tabular}{r|ccccccc}\n",
       "\t& gene & gene\\_number & cpath & cost & x & y & z\\\\\n",
       "\t\\hline\n",
       "\t& String31? & Any & Any & Any & Any & Any & Any\\\\\n",
       "\t\\hline\n",
       "\t1 & Higd1a & 3 & [4049, 4233, 8660, 16526] & 1.06754 & 990.275 & 1517.47 & 0.0 \\\\\n",
       "\t2 & Srrm1 & 4 & [891, 6962, 9173, 15526] & 2.14305 & 764.521 & 1474.04 & 0.0 \\\\\n",
       "\t3 & Srrm1 & 4 & [1067, 7062, 9276, 15629] & 0.241011 & 869.379 & 1540.38 & 0.0 \\\\\n",
       "\t4 & Srrm1 & 4 & [1072, 7067, 9281, 15632] & 1.17522 & 873.084 & 1535.57 & 0.0 \\\\\n",
       "\t5 & Srrm1 & 4 & [1084, 7076, 9291, 15645] & 2.8198 & 882.568 & 1479.06 & 0.0 \\\\\n",
       "\\end{tabular}\n"
      ],
      "text/plain": [
       "\u001b[1m5×7 DataFrame\u001b[0m\n",
       "\u001b[1m Row \u001b[0m│\u001b[1m gene      \u001b[0m\u001b[1m gene_number \u001b[0m\u001b[1m cpath                     \u001b[0m\u001b[1m cost     \u001b[0m\u001b[1m x       \u001b[0m\u001b[1m y\u001b[0m ⋯\n",
       "     │\u001b[90m String31? \u001b[0m\u001b[90m Any         \u001b[0m\u001b[90m Any                       \u001b[0m\u001b[90m Any      \u001b[0m\u001b[90m Any     \u001b[0m\u001b[90m A\u001b[0m ⋯\n",
       "─────┼──────────────────────────────────────────────────────────────────────────\n",
       "   1 │ Higd1a     3            [4049, 4233, 8660, 16526]  1.06754   990.275  1 ⋯\n",
       "   2 │ Srrm1      4            [891, 6962, 9173, 15526]   2.14305   764.521  1\n",
       "   3 │ Srrm1      4            [1067, 7062, 9276, 15629]  0.241011  869.379  1\n",
       "   4 │ Srrm1      4            [1072, 7067, 9281, 15632]  1.17522   873.084  1\n",
       "   5 │ Srrm1      4            [1084, 7076, 9291, 15645]  2.8198    882.568  1 ⋯\n",
       "\u001b[36m                                                               2 columns omitted\u001b[0m"
      ]
     },
     "execution_count": 35,
     "metadata": {},
     "output_type": "execute_result"
    }
   ],
   "source": [
    "candidates = get_codepaths(pnts, cb, H, params)\n",
    "first(candidates, 5)"
   ]
  },
  {
   "cell_type": "code",
   "execution_count": 36,
   "id": "ff8f64cd-afa2-4b3e-8c8d-3a6aec855d9f",
   "metadata": {},
   "outputs": [
    {
     "data": {
      "text/html": [
       "<div><div style = \"float: left;\"><span>1917×7 DataFrame</span></div><div style = \"float: right;\"><span style = \"font-style: italic;\">1892 rows omitted</span></div><div style = \"clear: both;\"></div></div><div class = \"data-frame\" style = \"overflow-x: scroll;\"><table class = \"data-frame\" style = \"margin-bottom: 6px;\"><thead><tr class = \"header\"><th class = \"rowNumber\" style = \"font-weight: bold; text-align: right;\">Row</th><th style = \"text-align: left;\">gene</th><th style = \"text-align: left;\">gene_number</th><th style = \"text-align: left;\">cpath</th><th style = \"text-align: left;\">cost</th><th style = \"text-align: left;\">x</th><th style = \"text-align: left;\">y</th><th style = \"text-align: left;\">z</th></tr><tr class = \"subheader headerLastRow\"><th class = \"rowNumber\" style = \"font-weight: bold; text-align: right;\"></th><th title = \"Union{Missing, String31}\" style = \"text-align: left;\">String31?</th><th title = \"Any\" style = \"text-align: left;\">Any</th><th title = \"Any\" style = \"text-align: left;\">Any</th><th title = \"Any\" style = \"text-align: left;\">Any</th><th title = \"Any\" style = \"text-align: left;\">Any</th><th title = \"Any\" style = \"text-align: left;\">Any</th><th title = \"Any\" style = \"text-align: left;\">Any</th></tr></thead><tbody><tr><td class = \"rowNumber\" style = \"font-weight: bold; text-align: right;\">1</td><td style = \"text-align: left;\">Higd1a</td><td style = \"text-align: left;\">3</td><td style = \"text-align: left;\">[4049, 4233, 8660, 16526]</td><td style = \"text-align: left;\">1.06754</td><td style = \"text-align: left;\">990.275</td><td style = \"text-align: left;\">1517.47</td><td style = \"text-align: left;\">0.0</td></tr><tr><td class = \"rowNumber\" style = \"font-weight: bold; text-align: right;\">2</td><td style = \"text-align: left;\">Srrm1</td><td style = \"text-align: left;\">4</td><td style = \"text-align: left;\">[891, 6962, 9173, 15526]</td><td style = \"text-align: left;\">2.14305</td><td style = \"text-align: left;\">764.521</td><td style = \"text-align: left;\">1474.04</td><td style = \"text-align: left;\">0.0</td></tr><tr><td class = \"rowNumber\" style = \"font-weight: bold; text-align: right;\">3</td><td style = \"text-align: left;\">Srrm1</td><td style = \"text-align: left;\">4</td><td style = \"text-align: left;\">[1067, 7062, 9276, 15629]</td><td style = \"text-align: left;\">0.241011</td><td style = \"text-align: left;\">869.379</td><td style = \"text-align: left;\">1540.38</td><td style = \"text-align: left;\">0.0</td></tr><tr><td class = \"rowNumber\" style = \"font-weight: bold; text-align: right;\">4</td><td style = \"text-align: left;\">Srrm1</td><td style = \"text-align: left;\">4</td><td style = \"text-align: left;\">[1072, 7067, 9281, 15632]</td><td style = \"text-align: left;\">1.17522</td><td style = \"text-align: left;\">873.084</td><td style = \"text-align: left;\">1535.57</td><td style = \"text-align: left;\">0.0</td></tr><tr><td class = \"rowNumber\" style = \"font-weight: bold; text-align: right;\">5</td><td style = \"text-align: left;\">Srrm1</td><td style = \"text-align: left;\">4</td><td style = \"text-align: left;\">[1084, 7076, 9291, 15645]</td><td style = \"text-align: left;\">2.8198</td><td style = \"text-align: left;\">882.568</td><td style = \"text-align: left;\">1479.06</td><td style = \"text-align: left;\">0.0</td></tr><tr><td class = \"rowNumber\" style = \"font-weight: bold; text-align: right;\">6</td><td style = \"text-align: left;\">Csnk2a1</td><td style = \"text-align: left;\">6</td><td style = \"text-align: left;\">[3176, 7883, 10269, 13762]</td><td style = \"text-align: left;\">2.51983</td><td style = \"text-align: left;\">832.734</td><td style = \"text-align: left;\">1511.71</td><td style = \"text-align: left;\">0.0</td></tr><tr><td class = \"rowNumber\" style = \"font-weight: bold; text-align: right;\">7</td><td style = \"text-align: left;\">Wbp11</td><td style = \"text-align: left;\">7</td><td style = \"text-align: left;\">[3814, 6971, 9184, 14443]</td><td style = \"text-align: left;\">0.845021</td><td style = \"text-align: left;\">777.584</td><td style = \"text-align: left;\">1569.5</td><td style = \"text-align: left;\">0.0</td></tr><tr><td class = \"rowNumber\" style = \"font-weight: bold; text-align: right;\">8</td><td style = \"text-align: left;\">Wbp11</td><td style = \"text-align: left;\">7</td><td style = \"text-align: left;\">[3950, 7064, 9278, 14491]</td><td style = \"text-align: left;\">0.113491</td><td style = \"text-align: left;\">869.787</td><td style = \"text-align: left;\">1497.33</td><td style = \"text-align: left;\">0.0</td></tr><tr><td class = \"rowNumber\" style = \"font-weight: bold; text-align: right;\">9</td><td style = \"text-align: left;\">Mat2a</td><td style = \"text-align: left;\">8</td><td style = \"text-align: left;\">[2631, 4146, 9251, 14615]</td><td style = \"text-align: left;\">1.6675</td><td style = \"text-align: left;\">842.317</td><td style = \"text-align: left;\">1441.05</td><td style = \"text-align: left;\">0.0</td></tr><tr><td class = \"rowNumber\" style = \"font-weight: bold; text-align: right;\">10</td><td style = \"text-align: left;\">Mat2a</td><td style = \"text-align: left;\">8</td><td style = \"text-align: left;\">[2633, 4150, 9254, 14617]</td><td style = \"text-align: left;\">2.89706</td><td style = \"text-align: left;\">846.414</td><td style = \"text-align: left;\">1493.31</td><td style = \"text-align: left;\">0.0</td></tr><tr><td class = \"rowNumber\" style = \"font-weight: bold; text-align: right;\">11</td><td style = \"text-align: left;\">Mat2a</td><td style = \"text-align: left;\">8</td><td style = \"text-align: left;\">[2666, 4182, 9290, 14646]</td><td style = \"text-align: left;\">1.30381</td><td style = \"text-align: left;\">880.636</td><td style = \"text-align: left;\">1450.58</td><td style = \"text-align: left;\">0.0</td></tr><tr><td class = \"rowNumber\" style = \"font-weight: bold; text-align: right;\">12</td><td style = \"text-align: left;\">Mat2a</td><td style = \"text-align: left;\">8</td><td style = \"text-align: left;\">[2679, 4193, 9303, 14661]</td><td style = \"text-align: left;\">0.15443</td><td style = \"text-align: left;\">898.773</td><td style = \"text-align: left;\">1451.3</td><td style = \"text-align: left;\">0.0</td></tr><tr><td class = \"rowNumber\" style = \"font-weight: bold; text-align: right;\">13</td><td style = \"text-align: left;\">Tanc2</td><td style = \"text-align: left;\">9</td><td style = \"text-align: left;\">[765, 4376, 9273, 13059]</td><td style = \"text-align: left;\">2.91598</td><td style = \"text-align: left;\">867.169</td><td style = \"text-align: left;\">1459.38</td><td style = \"text-align: left;\">0.0</td></tr><tr><td style = \"text-align: right;\">&vellip;</td><td style = \"text-align: right;\">&vellip;</td><td style = \"text-align: right;\">&vellip;</td><td style = \"text-align: right;\">&vellip;</td><td style = \"text-align: right;\">&vellip;</td><td style = \"text-align: right;\">&vellip;</td><td style = \"text-align: right;\">&vellip;</td><td style = \"text-align: right;\">&vellip;</td></tr><tr><td class = \"rowNumber\" style = \"font-weight: bold; text-align: right;\">1906</td><td style = \"text-align: left;\">negative_control</td><td style = \"text-align: left;\">7901</td><td style = \"text-align: left;\">[3857, 5364, 12038, 14099]</td><td style = \"text-align: left;\">1.96995</td><td style = \"text-align: left;\">802.71</td><td style = \"text-align: left;\">1445.21</td><td style = \"text-align: left;\">0.0</td></tr><tr><td class = \"rowNumber\" style = \"font-weight: bold; text-align: right;\">1907</td><td style = \"text-align: left;\">negative_control</td><td style = \"text-align: left;\">7901</td><td style = \"text-align: left;\">[3897, 5396, 12072, 14143]</td><td style = \"text-align: left;\">0.786334</td><td style = \"text-align: left;\">833.753</td><td style = \"text-align: left;\">1399.38</td><td style = \"text-align: left;\">0.0</td></tr><tr><td class = \"rowNumber\" style = \"font-weight: bold; text-align: right;\">1908</td><td style = \"text-align: left;\">negative_control</td><td style = \"text-align: left;\">7916</td><td style = \"text-align: left;\">[3897, 5181, 12072, 13940]</td><td style = \"text-align: left;\">2.14447</td><td style = \"text-align: left;\">833.767</td><td style = \"text-align: left;\">1399.21</td><td style = \"text-align: left;\">0.0</td></tr><tr><td class = \"rowNumber\" style = \"font-weight: bold; text-align: right;\">1909</td><td style = \"text-align: left;\">negative_control</td><td style = \"text-align: left;\">7916</td><td style = \"text-align: left;\">[4037, 5270, 12141, 14031]</td><td style = \"text-align: left;\">3.96434</td><td style = \"text-align: left;\">968.44</td><td style = \"text-align: left;\">1451.93</td><td style = \"text-align: left;\">0.0</td></tr><tr><td class = \"rowNumber\" style = \"font-weight: bold; text-align: right;\">1910</td><td style = \"text-align: left;\">negative_control</td><td style = \"text-align: left;\">7921</td><td style = \"text-align: left;\">[3897, 5181, 10994, 15235]</td><td style = \"text-align: left;\">3.75901</td><td style = \"text-align: left;\">833.551</td><td style = \"text-align: left;\">1399.55</td><td style = \"text-align: left;\">0.0</td></tr><tr><td class = \"rowNumber\" style = \"font-weight: bold; text-align: right;\">1911</td><td style = \"text-align: left;\">negative_control</td><td style = \"text-align: left;\">7923</td><td style = \"text-align: left;\">[3897, 5181, 10047, 15978]</td><td style = \"text-align: left;\">3.12154</td><td style = \"text-align: left;\">833.333</td><td style = \"text-align: left;\">1399.35</td><td style = \"text-align: left;\">0.0</td></tr><tr><td class = \"rowNumber\" style = \"font-weight: bold; text-align: right;\">1912</td><td style = \"text-align: left;\">negative_control</td><td style = \"text-align: left;\">7925</td><td style = \"text-align: left;\">[3941, 5213, 9269, 12819]</td><td style = \"text-align: left;\">0.850221</td><td style = \"text-align: left;\">862.517</td><td style = \"text-align: left;\">1476.89</td><td style = \"text-align: left;\">0.0</td></tr><tr><td class = \"rowNumber\" style = \"font-weight: bold; text-align: right;\">1913</td><td style = \"text-align: left;\">negative_control</td><td style = \"text-align: left;\">7926</td><td style = \"text-align: left;\">[4047, 5282, 9147, 13200]</td><td style = \"text-align: left;\">3.63528</td><td style = \"text-align: left;\">989.79</td><td style = \"text-align: left;\">1442.62</td><td style = \"text-align: left;\">0.0</td></tr><tr><td class = \"rowNumber\" style = \"font-weight: bold; text-align: right;\">1914</td><td style = \"text-align: left;\">negative_control</td><td style = \"text-align: left;\">7964</td><td style = \"text-align: left;\">[3897, 4344, 12072, 13012]</td><td style = \"text-align: left;\">3.99801</td><td style = \"text-align: left;\">834.367</td><td style = \"text-align: left;\">1399.03</td><td style = \"text-align: left;\">0.0</td></tr><tr><td class = \"rowNumber\" style = \"font-weight: bold; text-align: right;\">1915</td><td style = \"text-align: left;\">negative_control</td><td style = \"text-align: left;\">7981</td><td style = \"text-align: left;\">[3820, 4092, 11162, 13881]</td><td style = \"text-align: left;\">3.07071</td><td style = \"text-align: left;\">780.399</td><td style = \"text-align: left;\">1467.43</td><td style = \"text-align: left;\">0.0</td></tr><tr><td class = \"rowNumber\" style = \"font-weight: bold; text-align: right;\">1916</td><td style = \"text-align: left;\">negative_control</td><td style = \"text-align: left;\">7983</td><td style = \"text-align: left;\">[4052, 4236, 10179, 15167]</td><td style = \"text-align: left;\">3.27183</td><td style = \"text-align: left;\">993.822</td><td style = \"text-align: left;\">1489.75</td><td style = \"text-align: left;\">0.0</td></tr><tr><td class = \"rowNumber\" style = \"font-weight: bold; text-align: right;\">1917</td><td style = \"text-align: left;\">negative_control</td><td style = \"text-align: left;\">7999</td><td style = \"text-align: left;\">[4025, 8422, 9336, 15678]</td><td style = \"text-align: left;\">2.63837</td><td style = \"text-align: left;\">952.645</td><td style = \"text-align: left;\">1462.49</td><td style = \"text-align: left;\">0.0</td></tr></tbody></table></div>"
      ],
      "text/latex": [
       "\\begin{tabular}{r|ccccccc}\n",
       "\t& gene & gene\\_number & cpath & cost & x & y & \\\\\n",
       "\t\\hline\n",
       "\t& String31? & Any & Any & Any & Any & Any & \\\\\n",
       "\t\\hline\n",
       "\t1 & Higd1a & 3 & [4049, 4233, 8660, 16526] & 1.06754 & 990.275 & 1517.47 & $\\dots$ \\\\\n",
       "\t2 & Srrm1 & 4 & [891, 6962, 9173, 15526] & 2.14305 & 764.521 & 1474.04 & $\\dots$ \\\\\n",
       "\t3 & Srrm1 & 4 & [1067, 7062, 9276, 15629] & 0.241011 & 869.379 & 1540.38 & $\\dots$ \\\\\n",
       "\t4 & Srrm1 & 4 & [1072, 7067, 9281, 15632] & 1.17522 & 873.084 & 1535.57 & $\\dots$ \\\\\n",
       "\t5 & Srrm1 & 4 & [1084, 7076, 9291, 15645] & 2.8198 & 882.568 & 1479.06 & $\\dots$ \\\\\n",
       "\t6 & Csnk2a1 & 6 & [3176, 7883, 10269, 13762] & 2.51983 & 832.734 & 1511.71 & $\\dots$ \\\\\n",
       "\t7 & Wbp11 & 7 & [3814, 6971, 9184, 14443] & 0.845021 & 777.584 & 1569.5 & $\\dots$ \\\\\n",
       "\t8 & Wbp11 & 7 & [3950, 7064, 9278, 14491] & 0.113491 & 869.787 & 1497.33 & $\\dots$ \\\\\n",
       "\t9 & Mat2a & 8 & [2631, 4146, 9251, 14615] & 1.6675 & 842.317 & 1441.05 & $\\dots$ \\\\\n",
       "\t10 & Mat2a & 8 & [2633, 4150, 9254, 14617] & 2.89706 & 846.414 & 1493.31 & $\\dots$ \\\\\n",
       "\t11 & Mat2a & 8 & [2666, 4182, 9290, 14646] & 1.30381 & 880.636 & 1450.58 & $\\dots$ \\\\\n",
       "\t12 & Mat2a & 8 & [2679, 4193, 9303, 14661] & 0.15443 & 898.773 & 1451.3 & $\\dots$ \\\\\n",
       "\t13 & Tanc2 & 9 & [765, 4376, 9273, 13059] & 2.91598 & 867.169 & 1459.38 & $\\dots$ \\\\\n",
       "\t14 & Tanc2 & 9 & [795, 4402, 9300, 13102] & 0.913461 & 893.216 & 1483.38 & $\\dots$ \\\\\n",
       "\t15 & Tanc2 & 9 & [822, 4423, 9320, 13145] & 1.10612 & 925.556 & 1495.82 & $\\dots$ \\\\\n",
       "\t16 & Tanc2 & 9 & [829, 4428, 9324, 13150] & 3.21056 & 931.259 & 1471.31 & $\\dots$ \\\\\n",
       "\t17 & Scn3b & 11 & [3509, 6969, 9183, 14285] & 1.87866 & 775.644 & 1496.24 & $\\dots$ \\\\\n",
       "\t18 & Acp1 & 12 & [896, 6966, 11476, 13233] & 2.95309 & 767.465 & 1464.27 & $\\dots$ \\\\\n",
       "\t19 & Cadm3 & 13 & [2556, 7512, 10359, 16527] & 2.4495 & 993.066 & 1437.96 & $\\dots$ \\\\\n",
       "\t20 & Mast3 & 14 & [3904, 8145, 11544, 13017] & 1.38894 & 838.384 & 1425.63 & $\\dots$ \\\\\n",
       "\t21 & Otub1 & 19 & [3896, 7427, 8798, 15234] & 3.09122 & 833.547 & 1430.25 & $\\dots$ \\\\\n",
       "\t22 & Otub1 & 19 & [3900, 7429, 8806, 15237] & 0.963592 & 835.606 & 1515.46 & $\\dots$ \\\\\n",
       "\t23 & Otub1 & 19 & [3923, 7435, 8823, 15249] & 2.37713 & 850.348 & 1415.69 & $\\dots$ \\\\\n",
       "\t24 & Otub1 & 19 & [3971, 7471, 8860, 15268] & 3.94404 & 884.78 & 1437.82 & $\\dots$ \\\\\n",
       "\t25 & Otub1 & 19 & [4056, 7514, 8928, 15304] & 3.90837 & 998.559 & 1443.11 & $\\dots$ \\\\\n",
       "\t26 & Rangap1 & 21 & [1654, 4286, 12216, 14566] & 1.26257 & 791.032 & 1472.96 & $\\dots$ \\\\\n",
       "\t27 & Rangap1 & 21 & [1680, 4304, 12232, 14581] & 3.91502 & 806.0 & 1525.4 & $\\dots$ \\\\\n",
       "\t28 & Rangap1 & 21 & [1726, 4336, 12279, 14604] & 0.45838 & 830.564 & 1514.5 & $\\dots$ \\\\\n",
       "\t29 & Uba1 & 24 & [1617, 5990, 12003, 16311] & 2.54769 & 768.421 & 1567.72 & $\\dots$ \\\\\n",
       "\t30 & Uba1 & 24 & [1625, 5994, 12006, 16315] & 3.6035 & 770.638 & 1460.72 & $\\dots$ \\\\\n",
       "\t$\\dots$ & $\\dots$ & $\\dots$ & $\\dots$ & $\\dots$ & $\\dots$ & $\\dots$ &  \\\\\n",
       "\\end{tabular}\n"
      ],
      "text/plain": [
       "\u001b[1m1917×7 DataFrame\u001b[0m\n",
       "\u001b[1m  Row \u001b[0m│\u001b[1m gene             \u001b[0m\u001b[1m gene_number \u001b[0m\u001b[1m cpath                      \u001b[0m\u001b[1m cost     \u001b[0m\u001b[1m x\u001b[0m ⋯\n",
       "      │\u001b[90m String31?        \u001b[0m\u001b[90m Any         \u001b[0m\u001b[90m Any                        \u001b[0m\u001b[90m Any      \u001b[0m\u001b[90m A\u001b[0m ⋯\n",
       "──────┼─────────────────────────────────────────────────────────────────────────\n",
       "    1 │ Higd1a            3            [4049, 4233, 8660, 16526]   1.06754   9 ⋯\n",
       "    2 │ Srrm1             4            [891, 6962, 9173, 15526]    2.14305   7\n",
       "    3 │ Srrm1             4            [1067, 7062, 9276, 15629]   0.241011  8\n",
       "    4 │ Srrm1             4            [1072, 7067, 9281, 15632]   1.17522   8\n",
       "    5 │ Srrm1             4            [1084, 7076, 9291, 15645]   2.8198    8 ⋯\n",
       "    6 │ Csnk2a1           6            [3176, 7883, 10269, 13762]  2.51983   8\n",
       "    7 │ Wbp11             7            [3814, 6971, 9184, 14443]   0.845021  7\n",
       "    8 │ Wbp11             7            [3950, 7064, 9278, 14491]   0.113491  8\n",
       "    9 │ Mat2a             8            [2631, 4146, 9251, 14615]   1.6675    8 ⋯\n",
       "   10 │ Mat2a             8            [2633, 4150, 9254, 14617]   2.89706   8\n",
       "   11 │ Mat2a             8            [2666, 4182, 9290, 14646]   1.30381   8\n",
       "  ⋮   │        ⋮               ⋮                   ⋮                  ⋮        ⋱\n",
       " 1908 │ negative_control  7916         [3897, 5181, 12072, 13940]  2.14447   8\n",
       " 1909 │ negative_control  7916         [4037, 5270, 12141, 14031]  3.96434   9 ⋯\n",
       " 1910 │ negative_control  7921         [3897, 5181, 10994, 15235]  3.75901   8\n",
       " 1911 │ negative_control  7923         [3897, 5181, 10047, 15978]  3.12154   8\n",
       " 1912 │ negative_control  7925         [3941, 5213, 9269, 12819]   0.850221  8\n",
       " 1913 │ negative_control  7926         [4047, 5282, 9147, 13200]   3.63528   9 ⋯\n",
       " 1914 │ negative_control  7964         [3897, 4344, 12072, 13012]  3.99801   8\n",
       " 1915 │ negative_control  7981         [3820, 4092, 11162, 13881]  3.07071   7\n",
       " 1916 │ negative_control  7983         [4052, 4236, 10179, 15167]  3.27183   9\n",
       " 1917 │ negative_control  7999         [4025, 8422, 9336, 15678]   2.63837   9 ⋯\n",
       "\u001b[36m                                                 3 columns and 1896 rows omitted\u001b[0m"
      ]
     },
     "execution_count": 36,
     "metadata": {},
     "output_type": "execute_result"
    }
   ],
   "source": [
    "candidates"
   ]
  },
  {
   "cell_type": "markdown",
   "id": "d575983b",
   "metadata": {},
   "source": [
    "We can then use the ```choose_optimal_codepaths``` function to find the same barcodew that we found earlier"
   ]
  },
  {
   "cell_type": "code",
   "execution_count": 37,
   "id": "faaaed79",
   "metadata": {},
   "outputs": [
    {
     "data": {
      "text/plain": [
       "true"
      ]
     },
     "execution_count": 37,
     "metadata": {},
     "output_type": "execute_result"
    }
   ],
   "source": [
    "barcodes_again = choose_optimal_codepaths(pnts, cb, H, params, candidates, GLPK.Optimizer)\n",
    "barcodes == barcodes_again"
   ]
  },
  {
   "cell_type": "markdown",
   "id": "a58d3e48",
   "metadata": {},
   "source": [
    "We can now also try choosing candidates using stricter parameters. This saves computation time by reducing the number of times that we have to run ```get_codepaths```."
   ]
  },
  {
   "cell_type": "code",
   "execution_count": 38,
   "id": "9a03e213",
   "metadata": {},
   "outputs": [
    {
     "data": {
      "text/html": [
       "<div><div style = \"float: left;\"><span>5×9 DataFrame</span></div><div style = \"clear: both;\"></div></div><div class = \"data-frame\" style = \"overflow-x: scroll;\"><table class = \"data-frame\" style = \"margin-bottom: 6px;\"><thead><tr class = \"header\"><th class = \"rowNumber\" style = \"font-weight: bold; text-align: right;\">Row</th><th style = \"text-align: left;\">gene</th><th style = \"text-align: left;\">gene_number</th><th style = \"text-align: left;\">cpath</th><th style = \"text-align: left;\">cost</th><th style = \"text-align: left;\">x</th><th style = \"text-align: left;\">y</th><th style = \"text-align: left;\">z</th><th style = \"text-align: left;\">cc</th><th style = \"text-align: left;\">cc_size</th></tr><tr class = \"subheader headerLastRow\"><th class = \"rowNumber\" style = \"font-weight: bold; text-align: right;\"></th><th title = \"Union{Missing, String31}\" style = \"text-align: left;\">String31?</th><th title = \"Any\" style = \"text-align: left;\">Any</th><th title = \"Any\" style = \"text-align: left;\">Any</th><th title = \"Float64\" style = \"text-align: left;\">Float64</th><th title = \"Any\" style = \"text-align: left;\">Any</th><th title = \"Any\" style = \"text-align: left;\">Any</th><th title = \"Any\" style = \"text-align: left;\">Any</th><th title = \"Int64\" style = \"text-align: left;\">Int64</th><th title = \"Int64\" style = \"text-align: left;\">Int64</th></tr></thead><tbody><tr><td class = \"rowNumber\" style = \"font-weight: bold; text-align: right;\">1</td><td style = \"text-align: left;\">Srp68</td><td style = \"text-align: left;\">734</td><td style = \"text-align: left;\">[2, 6958, 10677, 13228]</td><td style = \"text-align: right;\">3.07349</td><td style = \"text-align: left;\">759.431</td><td style = \"text-align: left;\">1534.0</td><td style = \"text-align: left;\">0.0</td><td style = \"text-align: right;\">1</td><td style = \"text-align: right;\">1</td></tr><tr><td class = \"rowNumber\" style = \"font-weight: bold; text-align: right;\">2</td><td style = \"text-align: left;\">Rbm28</td><td style = \"text-align: left;\">452</td><td style = \"text-align: left;\">[9, 5343, 10954, 15545]</td><td style = \"text-align: right;\">1.13249</td><td style = \"text-align: left;\">783.107</td><td style = \"text-align: left;\">1541.98</td><td style = \"text-align: left;\">0.0</td><td style = \"text-align: right;\">2</td><td style = \"text-align: right;\">1</td></tr><tr><td class = \"rowNumber\" style = \"font-weight: bold; text-align: right;\">3</td><td style = \"text-align: left;\">negative_control</td><td style = \"text-align: left;\">7734</td><td style = \"text-align: left;\">[13, 4282, 9827, 15554]</td><td style = \"text-align: right;\">2.45405</td><td style = \"text-align: left;\">789.039</td><td style = \"text-align: left;\">1464.92</td><td style = \"text-align: left;\">0.0</td><td style = \"text-align: right;\">3</td><td style = \"text-align: right;\">1</td></tr><tr><td class = \"rowNumber\" style = \"font-weight: bold; text-align: right;\">4</td><td style = \"text-align: left;\">Rxra</td><td style = \"text-align: left;\">1948</td><td style = \"text-align: left;\">[17, 8104, 10962, 14093]</td><td style = \"text-align: right;\">1.53215</td><td style = \"text-align: left;\">796.282</td><td style = \"text-align: left;\">1472.55</td><td style = \"text-align: left;\">0.0</td><td style = \"text-align: right;\">4</td><td style = \"text-align: right;\">1</td></tr><tr><td class = \"rowNumber\" style = \"font-weight: bold; text-align: right;\">5</td><td style = \"text-align: left;\">Pam</td><td style = \"text-align: left;\">108</td><td style = \"text-align: left;\">[18, 5567, 10473, 16161]</td><td style = \"text-align: right;\">1.37</td><td style = \"text-align: left;\">804.52</td><td style = \"text-align: left;\">1448.24</td><td style = \"text-align: left;\">0.0</td><td style = \"text-align: right;\">5</td><td style = \"text-align: right;\">1</td></tr></tbody></table></div>"
      ],
      "text/latex": [
       "\\begin{tabular}{r|ccccccc}\n",
       "\t& gene & gene\\_number & cpath & cost & x & y & \\\\\n",
       "\t\\hline\n",
       "\t& String31? & Any & Any & Float64 & Any & Any & \\\\\n",
       "\t\\hline\n",
       "\t1 & Srp68 & 734 & [2, 6958, 10677, 13228] & 3.07349 & 759.431 & 1534.0 & $\\dots$ \\\\\n",
       "\t2 & Rbm28 & 452 & [9, 5343, 10954, 15545] & 1.13249 & 783.107 & 1541.98 & $\\dots$ \\\\\n",
       "\t3 & negative\\_control & 7734 & [13, 4282, 9827, 15554] & 2.45405 & 789.039 & 1464.92 & $\\dots$ \\\\\n",
       "\t4 & Rxra & 1948 & [17, 8104, 10962, 14093] & 1.53215 & 796.282 & 1472.55 & $\\dots$ \\\\\n",
       "\t5 & Pam & 108 & [18, 5567, 10473, 16161] & 1.37 & 804.52 & 1448.24 & $\\dots$ \\\\\n",
       "\\end{tabular}\n"
      ],
      "text/plain": [
       "\u001b[1m5×9 DataFrame\u001b[0m\n",
       "\u001b[1m Row \u001b[0m│\u001b[1m gene             \u001b[0m\u001b[1m gene_number \u001b[0m\u001b[1m cpath                    \u001b[0m\u001b[1m cost    \u001b[0m\u001b[1m x    \u001b[0m ⋯\n",
       "     │\u001b[90m String31?        \u001b[0m\u001b[90m Any         \u001b[0m\u001b[90m Any                      \u001b[0m\u001b[90m Float64 \u001b[0m\u001b[90m Any  \u001b[0m ⋯\n",
       "─────┼──────────────────────────────────────────────────────────────────────────\n",
       "   1 │ Srp68             734          [2, 6958, 10677, 13228]   3.07349  759.4 ⋯\n",
       "   2 │ Rbm28             452          [9, 5343, 10954, 15545]   1.13249  783.1\n",
       "   3 │ negative_control  7734         [13, 4282, 9827, 15554]   2.45405  789.0\n",
       "   4 │ Rxra              1948         [17, 8104, 10962, 14093]  1.53215  796.2\n",
       "   5 │ Pam               108          [18, 5567, 10473, 16161]  1.37     804.5 ⋯\n",
       "\u001b[36m                                                               5 columns omitted\u001b[0m"
      ]
     },
     "execution_count": 38,
     "metadata": {},
     "output_type": "execute_result"
    }
   ],
   "source": [
    "strict_params = DecodeParams()\n",
    "set_lat_var_cost_coeff(strict_params, 12.0)\n",
    "set_z_var_cost_coeff(strict_params, 0.0)\n",
    "set_lw_var_cost_coeff(strict_params, 4.8)\n",
    "set_s_var_cost_coeff(strict_params, 0.0)\n",
    "set_free_dot_cost(strict_params, 1.0)\n",
    "\n",
    "set_xy_search_radius(strict_params, sqrt(size(H)[2]/6.0)*3)\n",
    "set_z_search_radius(strict_params, 0.0);\n",
    "\n",
    "\n",
    "stricter_barcodes = choose_optimal_codepaths(pnts, cb, H, strict_params, candidates, GLPK.Optimizer)\n",
    "first(stricter_barcodes, 5)"
   ]
  },
  {
   "cell_type": "markdown",
   "id": "046ea929",
   "metadata": {},
   "source": [
    "We can compare the decoding results using the two different sets of parameters."
   ]
  },
  {
   "cell_type": "code",
   "execution_count": 39,
   "id": "8eeb5b2f",
   "metadata": {},
   "outputs": [
    {
     "name": "stdout",
     "output_type": "stream",
     "text": [
      "Number of gene encoding barcodes: 1472\n",
      "Estimated False Discovery rate: 0.02474342865261177\n"
     ]
    }
   ],
   "source": [
    "println(\"Number of gene encoding barcodes: \", sum(barcodes.gene .!= \"negative_control\"))\n",
    "estimated_false_discovery_rate = sum(barcodes.gene .== \"negative_control\")*sum(cb.gene .!= \"negative_control\")/sum(cb.gene .== \"negative_control\")/sum(barcodes.gene .!= \"negative_control\")\n",
    "println(\"Estimated False Discovery rate: \", estimated_false_discovery_rate)"
   ]
  },
  {
   "cell_type": "code",
   "execution_count": 40,
   "id": "f42c6559",
   "metadata": {},
   "outputs": [
    {
     "name": "stdout",
     "output_type": "stream",
     "text": [
      "Number of gene encoding barcodes: 1116\n",
      "Estimated False Discovery rate: 0.014718418730459346\n"
     ]
    }
   ],
   "source": [
    "println(\"Number of gene encoding barcodes: \", sum(stricter_barcodes.gene .!= \"negative_control\"))\n",
    "estimated_false_discovery_rate = sum(stricter_barcodes.gene .== \"negative_control\")*sum(cb.gene .!= \"negative_control\")/sum(cb.gene .== \"negative_control\")/sum(stricter_barcodes.gene .!= \"negative_control\")\n",
    "println(\"Estimated False Discovery rate: \", estimated_false_discovery_rate)"
   ]
  },
  {
   "cell_type": "markdown",
   "id": "6b4c5628",
   "metadata": {},
   "source": [
    "The less strict parameter set decodes about 40% more gene encoding barcodes at a cost of having twice the estimated false discovery rate. Since the estimated false positive rate is still small, it is probably an acceptable trade off."
   ]
  },
  {
   "cell_type": "markdown",
   "id": "22795fa1",
   "metadata": {},
   "source": [
    "To save your results, use the ```CSV.write``` command."
   ]
  },
  {
   "cell_type": "code",
   "execution_count": 41,
   "id": "9f37b619",
   "metadata": {},
   "outputs": [
    {
     "data": {
      "text/plain": [
       "\"example_results.csv\""
      ]
     },
     "execution_count": 41,
     "metadata": {},
     "output_type": "execute_result"
    }
   ],
   "source": [
    "CSV.write(\"example_results.csv\", barcodes)"
   ]
  }
 ],
 "metadata": {
  "kernelspec": {
   "display_name": "Julia 1.10.9",
   "language": "julia",
   "name": "julia-1.10"
  },
  "language_info": {
   "file_extension": ".jl",
   "mimetype": "application/julia",
   "name": "julia",
   "version": "1.10.9"
  }
 },
 "nbformat": 4,
 "nbformat_minor": 5
}
