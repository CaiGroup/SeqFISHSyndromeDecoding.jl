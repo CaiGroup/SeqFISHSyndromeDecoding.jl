{
 "cells": [
  {
   "cell_type": "markdown",
   "id": "0535e5e9",
   "metadata": {},
   "source": [
    "# Decoding Reed-Solomon Codes Example\n",
    "\n",
    "This notebook contains an example of how to decode Reed-Solomon encoded seqFISH data in our [preprint](https://doi.org/10.1101/2025.06.10.658913).\n",
    "\n",
    "## Instructions\n",
    "To run this notebook, you will need to change to the Julia runtime environment. To do that select from the drop down menu:\n",
    "\n",
    "Runtime > Change runtime type\n",
    "\n",
    "In the \"Change runtime type\"  prompt window, select \"Julia\" (not julia x.xx.xx) from the Runtime type drop-down menu. Click Save.\n",
    "\n",
    "*note: this example was generated using data and a jupyter notebook that are freely available at the [SeqFISHSyndromeDecoding github repository](https://github.com/CaiGroup/SeqFISHSyndromeDecoding) and on [Google colab](https://colab.research.google.com/github/CaiGroup/SeqFISHSyndromeDecoding.jl/blob/master/example_notebook/colab/example_decode_RS_colab.jl.ipynb)*\n"
   ]
  },
  {
   "cell_type": "code",
   "execution_count": null,
   "id": "881697f4",
   "metadata": {},
   "outputs": [],
   "source": [
    "using Pkg\n",
    "Pkg.add(name=\"DataFrames\")\n",
    "Pkg.add(name=\"GLPK\")\n",
    "Pkg.add(url=\"https://github.com/CaiGroup/SeqFISHSyndromeDecoding.jl\")\n",
    "using DataFrames\n",
    "using CSV\n",
    "using SeqFISHSyndromeDecoding\n",
    "using GLPK\n",
    "using DelimitedFiles\n",
    "using Downloads"
   ]
  },
  {
   "cell_type": "markdown",
   "id": "846a280a",
   "metadata": {},
   "source": [
    "This notebook shows demonstrates how to use SeqFISHSyndromeDecoding.jl. The smallest cell with the fewest dots in our Reed-Solomon encoded experiment, chosen for computational convienience. We also reduce computation time by using the highest lateral position variance reported in our manuscript with half the search radius used in the manuscript computations. The larger positional variance penalty would prohibit most additional candidate barcodes found with larger search radius.\n",
    "\n",
    "First, load the codebook that we will use to decode our sample data."
   ]
  },
  {
   "cell_type": "code",
   "execution_count": null,
   "id": "d11d34d3",
   "metadata": {},
   "outputs": [],
   "source": [
    "cb = DataFrame(CSV.File(Downloads.download(\"https://raw.githubusercontent.com/CaiGroup/SeqFISHSyndromeDecoding.jl/refs/heads/master/example_data/full_RS_q11_k7_half_pool_cb.csv\")))\n",
    "println(first(cb, 5))"
   ]
  },
  {
   "cell_type": "markdown",
   "id": "cd1c0a51",
   "metadata": {},
   "source": [
    "Define the [parity check matrix](https://en.wikipedia.org/wiki/Parity-check_matrix) for the codebook"
   ]
  },
  {
   "cell_type": "code",
   "execution_count": null,
   "id": "e74d8a60",
   "metadata": {},
   "outputs": [],
   "source": [
    "H = readdlm(Downloads.download(\"https://raw.githubusercontent.com/CaiGroup/SeqFISHSyndromeDecoding.jl/refs/heads/master/example_data/RS_q11_k7_H.csv\"), ',', UInt8)"
   ]
  },
  {
   "cell_type": "markdown",
   "id": "17502778",
   "metadata": {},
   "source": [
    "We can verify that H is actually the parity check matrix of the codebook."
   ]
  },
  {
   "cell_type": "code",
   "execution_count": null,
   "id": "7a910bcd",
   "metadata": {},
   "outputs": [],
   "source": [
    "all(H * Matrix(cb[:,2:end])' .% 11 .== 0)"
   ]
  },
  {
   "cell_type": "markdown",
   "id": "1e1b106a",
   "metadata": {},
   "source": [
    "Next we can load the aligned points from each hybridization for our example cell."
   ]
  },
  {
   "cell_type": "code",
   "execution_count": null,
   "id": "e6e977fc",
   "metadata": {},
   "outputs": [],
   "source": [
    "pnts = DataFrame(CSV.File(Downloads.download(\"https://raw.githubusercontent.com/CaiGroup/SeqFISHSyndromeDecoding.jl/refs/heads/master/example_data/example_RS_cell_points.csv\")))\n",
    "filter!(pnt -> ~ismissing(pnt.pseudocolor), pnts)\n",
    "pnts.block = UInt8.(pnts.block)\n",
    "select!(pnts, Not([:ch,:hyb]))\n",
    "SeqFISHSyndromeDecoding.sort_readouts!(pnts)\n",
    "println(first(pnts, 5))"
   ]
  },
  {
   "cell_type": "markdown",
   "id": "7d2e4a99",
   "metadata": {},
   "source": [
    "Next we initialize a ```DecodeParams``` object, and set the parameters"
   ]
  },
  {
   "cell_type": "code",
   "execution_count": null,
   "id": "b4bbac59",
   "metadata": {},
   "outputs": [],
   "source": [
    "params = DecodeParams()\n",
    "\n",
    "set_zeros_probed(params, false)\n",
    "set_lat_var_cost_coeff(params, 7.0)\n",
    "set_z_var_cost_coeff(params, 0.0)\n",
    "set_lw_var_cost_coeff(params, 0.0)\n",
    "set_s_var_cost_coeff(params, 0.0)\n",
    "set_free_dot_cost(params, 1.0)\n",
    "set_n_allowed_drops(params, 0)\n",
    "\n",
    "set_xy_search_radius(params, 2)\n",
    "set_z_search_radius(params, 0.0);"
   ]
  },
  {
   "cell_type": "markdown",
   "id": "a598d72c",
   "metadata": {},
   "source": [
    "We can then decode"
   ]
  },
  {
   "cell_type": "code",
   "execution_count": null,
   "id": "02037dc8",
   "metadata": {},
   "outputs": [],
   "source": [
    "barcodes = decode_syndromes!(pnts, cb, H, params);\n",
    "println(first(barcodes, 5))"
   ]
  },
  {
   "cell_type": "markdown",
   "id": "58d6b6c1",
   "metadata": {},
   "source": [
    "Alternatively, if we aren't sure what parameters we want to use, we can save time by splitting decode_syndromes! into its two steps. First we can identify barcode candidates with the ```get_codepaths``` (named for the paths that candidate barcodes take the the decoding graph in figure 1a) function using the least strict parameter set that we are interested in."
   ]
  },
  {
   "cell_type": "code",
   "execution_count": null,
   "id": "49f824de",
   "metadata": {},
   "outputs": [],
   "source": [
    "candidates = get_codepaths(pnts, cb, H, params);\n",
    "println(first(candidates, 5))\n"
   ]
  },
  {
   "cell_type": "markdown",
   "id": "d575983b",
   "metadata": {},
   "source": [
    "We can then use the ```choose_optimal_codepaths``` function to find the same barcodew that we found earlier"
   ]
  },
  {
   "cell_type": "code",
   "execution_count": null,
   "id": "faaaed79",
   "metadata": {},
   "outputs": [],
   "source": [
    "barcodes_again = choose_optimal_codepaths(pnts, cb, H, params, candidates, GLPK.Optimizer)\n",
    "barcodes == barcodes_again"
   ]
  },
  {
   "cell_type": "markdown",
   "id": "a58d3e48",
   "metadata": {},
   "source": [
    "We can now also try choosing candidates using stricter parameters. This saves computation time by reducing the number of times that we have to run ```get_codepaths```."
   ]
  },
  {
   "cell_type": "code",
   "execution_count": null,
   "id": "9a03e213",
   "metadata": {},
   "outputs": [],
   "source": [
    "strict_params = DecodeParams()\n",
    "\n",
    "set_zeros_probed(strict_params, false)\n",
    "set_lat_var_cost_coeff(strict_params, 10.0)\n",
    "set_z_var_cost_coeff(strict_params, 0.0)\n",
    "set_lw_var_cost_coeff(strict_params, 0.0)\n",
    "set_s_var_cost_coeff(strict_params, 0.0)\n",
    "set_free_dot_cost(strict_params, 1.0)\n",
    "set_n_allowed_drops(strict_params, 0)\n",
    "\n",
    "set_xy_search_radius(strict_params, 2)\n",
    "set_z_search_radius(strict_params, 0.0);\n",
    "\n",
    "stricter_barcodes = choose_optimal_codepaths(pnts, cb, H, strict_params, candidates, GLPK.Optimizer)\n",
    "println(first(stricter_barcodes, 5))"
   ]
  },
  {
   "cell_type": "markdown",
   "id": "046ea929",
   "metadata": {},
   "source": [
    "We can compare the decoding results using the two different sets of parameters. For brevity, we use gene encoding barcodes found in decoding runs that include searches for negative control barcodes, which differs from the procedure described in our manuscript in which datasets are also decoded with the negative control codewords ommitted from the codebook."
   ]
  },
  {
   "cell_type": "code",
   "execution_count": null,
   "id": "8eeb5b2f",
   "metadata": {},
   "outputs": [],
   "source": [
    "println(\"Number of gene encoding barcodes: \", sum(barcodes.gene .!= \"negative_control\"))\n",
    "estimated_false_discovery_rate = sum(barcodes.gene .== \"negative_control\")*sum(cb.gene .!= \"negative_control\")/sum(cb.gene .== \"negative_control\")/sum(barcodes.gene .!= \"negative_control\")\n",
    "println(\"Estimated False Discovery rate: \", estimated_false_discovery_rate)"
   ]
  },
  {
   "cell_type": "code",
   "execution_count": null,
   "id": "f42c6559",
   "metadata": {},
   "outputs": [],
   "source": [
    "println(\"Number of gene encoding barcodes: \", sum(stricter_barcodes.gene .!= \"negative_control\"))\n",
    "estimated_false_discovery_rate = sum(stricter_barcodes.gene .== \"negative_control\")*sum(cb.gene .!= \"negative_control\")/sum(cb.gene .== \"negative_control\")/sum(stricter_barcodes.gene .!= \"negative_control\")\n",
    "println(\"Estimated False Discovery rate: \", estimated_false_discovery_rate)"
   ]
  },
  {
   "cell_type": "markdown",
   "id": "6b4c5628",
   "metadata": {},
   "source": [
    "The less strict parameter set decodes about 40% more gene encoding barcodes at a cost of having twice the estimated false discovery rate. Since the estimated false positive rate is still small, it is probably an acceptable trade off."
   ]
  },
  {
   "cell_type": "markdown",
   "id": "22795fa1",
   "metadata": {},
   "source": [
    "To save your results, use the ```CSV.write``` command."
   ]
  },
  {
   "cell_type": "code",
   "execution_count": null,
   "id": "9f37b619",
   "metadata": {},
   "outputs": [],
   "source": [
    "CSV.write(\"example_RS_results.csv\", barcodes)"
   ]
  }
 ],
 "metadata": {
  "kernelspec": {
   "display_name": "Julia 1.10.9",
   "language": "julia",
   "name": "julia-1.10"
  },
  "language_info": {
   "file_extension": ".jl",
   "mimetype": "application/julia",
   "name": "julia",
   "version": "1.10.9"
  }
 },
 "nbformat": 4,
 "nbformat_minor": 5
}
