{
 "cells": [
  {
   "cell_type": "markdown",
   "id": "0535e5e9",
   "metadata": {},
   "source": [
    "# Decoding Example\n",
    "\n",
    "*note: this example was generated using data and a jupyter notebook that are freely available at the [SeqFISHSyndromeDecoding github repository](https://github.com/CaiGroup/SeqFISHSyndromeDecoding)*"
   ]
  },
  {
   "cell_type": "code",
   "execution_count": null,
   "id": "881697f4",
   "metadata": {},
   "outputs": [],
   "source": [
    "using DataFrames\n",
    "using CSV\n",
    "using SeqFISHSyndromeDecoding\n",
    "using GLPK"
   ]
  },
  {
   "cell_type": "markdown",
   "id": "846a280a",
   "metadata": {},
   "source": [
    "This notebook shows demonstrates how to use SeqFISHSyndromeDecoding. The example data was taken from the 561 channel of cell number 8 in position 4 of replicate 2 of the 2019 SeqFISH+ NIH3T3 cell experiment. This particular subset of the data was chosen for its small size.\n",
    "\n",
    "First load the codebook that we will use to decode our sample data."
   ]
  },
  {
   "cell_type": "code",
   "execution_count": null,
   "id": "d11d34d3",
   "metadata": {},
   "outputs": [],
   "source": [
    "cb = DataFrame(CSV.File(\"../example_data/codebook_ch_561.csv\"))\n",
    "first(cb, 5)"
   ]
  },
  {
   "cell_type": "markdown",
   "id": "cd1c0a51",
   "metadata": {},
   "source": [
    "Define the [parity check matrix](https://en.wikipedia.org/wiki/Parity-check_matrix) for the codebook"
   ]
  },
  {
   "cell_type": "code",
   "execution_count": null,
   "id": "e74d8a60",
   "metadata": {},
   "outputs": [],
   "source": [
    "H = [1 1 -1 -1;]"
   ]
  },
  {
   "cell_type": "markdown",
   "id": "17502778",
   "metadata": {},
   "source": [
    "We can verify that H is actually the parity check matrix of the codebook."
   ]
  },
  {
   "cell_type": "code",
   "execution_count": null,
   "id": "7a910bcd",
   "metadata": {},
   "outputs": [],
   "source": [
    "all(H * Matrix(cb[:,2:end])' .% 20 .== 0)"
   ]
  },
  {
   "cell_type": "markdown",
   "id": "1e1b106a",
   "metadata": {},
   "source": [
    "Next we can load the aligned points from each hybridization for our example cell."
   ]
  },
  {
   "cell_type": "code",
   "execution_count": null,
   "id": "e6e977fc",
   "metadata": {},
   "outputs": [],
   "source": [
    "pnts = DataFrame(CSV.File(\"../example_data/example_cell_points.csv\"))\n",
    "first(pnts, 5)"
   ]
  },
  {
   "cell_type": "markdown",
   "id": "bdeab0ab",
   "metadata": {},
   "source": [
    "The SeqFISHSyndromeDecoding package requires that they hybridization column be UInt8s (to increase efficiency), and that\n",
    "there be a z column (for generality to 3d data)"
   ]
  },
  {
   "cell_type": "code",
   "execution_count": null,
   "id": "25b28a31",
   "metadata": {},
   "outputs": [],
   "source": [
    "pnts.z = zeros(Float64, nrow(pnts))\n",
    "pnts.hyb = UInt8.(pnts.hyb);"
   ]
  },
  {
   "cell_type": "markdown",
   "id": "7d2e4a99",
   "metadata": {},
   "source": [
    "Next we initialize a ```DecodeParams``` object, and set the parameters"
   ]
  },
  {
   "cell_type": "code",
   "execution_count": null,
   "id": "b4bbac59",
   "metadata": {},
   "outputs": [],
   "source": [
    "params = DecodeParams()\n",
    "\n",
    "set_lat_var_cost_coeff(params, 8.0)\n",
    "set_z_var_cost_coeff(params, 0.0)\n",
    "set_lw_var_cost_coeff(params, 3.2)\n",
    "set_s_var_cost_coeff(params, 0.0)\n",
    "set_free_dot_cost(params, 1.0)\n",
    "\n",
    "set_xy_search_radius(params, sqrt(size(H)[2]/6.0)*3)\n",
    "set_z_search_radius(params, 0.0);"
   ]
  },
  {
   "cell_type": "markdown",
   "id": "a598d72c",
   "metadata": {},
   "source": [
    "We can then decode"
   ]
  },
  {
   "cell_type": "code",
   "execution_count": null,
   "id": "02037dc8",
   "metadata": {},
   "outputs": [],
   "source": [
    "barcodes = decode_syndromes!(pnts, cb, H, params)\n",
    "first(barcodes, 5)"
   ]
  },
  {
   "cell_type": "markdown",
   "id": "58d6b6c1",
   "metadata": {},
   "source": [
    "Alternatively, if we aren't sure what parameters we want to use, we can save time by splitting decode_syndromes! into its two steps. First we can identify barcode candidates with the ```get_codepaths``` (named for the paths that candidate barcodes take the the decoding graph in figure 1a) function using the least strict parameter set that we are interested in."
   ]
  },
  {
   "cell_type": "code",
   "execution_count": null,
   "id": "49f824de",
   "metadata": {},
   "outputs": [],
   "source": [
    "candidates = get_codepaths(pnts, cb, H, params)\n",
    "first(candidates, 5)"
   ]
  },
  {
   "cell_type": "markdown",
   "id": "d575983b",
   "metadata": {},
   "source": [
    "We can then use the ```choose_optimal_codepaths``` function to find the same barcodew that we found earlier"
   ]
  },
  {
   "cell_type": "code",
   "execution_count": null,
   "id": "faaaed79",
   "metadata": {},
   "outputs": [],
   "source": [
    "barcodes_again = choose_optimal_codepaths(pnts, cb, H, params, candidates, GLPK.Optimizer)\n",
    "barcodes == barcodes_again"
   ]
  },
  {
   "cell_type": "markdown",
   "id": "a58d3e48",
   "metadata": {},
   "source": [
    "We can now also try choosing candidates using stricter parameters. This saves computation time by reducing the number of times that we have to run ```get_codepaths```."
   ]
  },
  {
   "cell_type": "code",
   "execution_count": null,
   "id": "9a03e213",
   "metadata": {},
   "outputs": [],
   "source": [
    "strict_params = DecodeParams()\n",
    "set_lat_var_cost_coeff(strict_params, 12.0)\n",
    "set_z_var_cost_coeff(strict_params, 0.0)\n",
    "set_lw_var_cost_coeff(strict_params, 4.8)\n",
    "set_s_var_cost_coeff(strict_params, 0.0)\n",
    "set_free_dot_cost(strict_params, 1.0)\n",
    "\n",
    "set_xy_search_radius(strict_params, sqrt(size(H)[2]/6.0)*3)\n",
    "set_z_search_radius(strict_params, 0.0);\n",
    "\n",
    "\n",
    "stricter_barcodes = choose_optimal_codepaths(pnts, cb, H, strict_params, candidates, GLPK.Optimizer)\n",
    "first(stricter_barcodes, 5)"
   ]
  },
  {
   "cell_type": "markdown",
   "id": "046ea929",
   "metadata": {},
   "source": [
    "We can compare the decoding results using the two different sets of parameters."
   ]
  },
  {
   "cell_type": "code",
   "execution_count": null,
   "id": "8eeb5b2f",
   "metadata": {},
   "outputs": [],
   "source": [
    "println(\"Number of gene encoding barcodes: \", sum(barcodes.gene_name .!= \"negative_control\"))\n",
    "estimated_false_positive_rate = sum(barcodes.gene_name .== \"negative_control\")*sum(cb.gene_name .!= \"negative_control\")/sum(cb.gene_name .== \"negative_control\")/sum(barcodes.gene_name .!= \"negative_control\")\n",
    "println(\"Estimated False Positive rate: \", estimated_false_positive_rate)"
   ]
  },
  {
   "cell_type": "code",
   "execution_count": null,
   "id": "f42c6559",
   "metadata": {},
   "outputs": [],
   "source": [
    "println(\"Number of gene encoding barcodes: \", sum(stricter_barcodes.gene_name .!= \"negative_control\"))\n",
    "estimated_false_positive_rate = sum(stricter_barcodes.gene_name .== \"negative_control\")*sum(cb.gene_name .!= \"negative_control\")/sum(cb.gene_name .== \"negative_control\")/sum(stricter_barcodes.gene_name .!= \"negative_control\")\n",
    "println(\"Estimated False Positive rate: \", estimated_false_positive_rate)"
   ]
  },
  {
   "cell_type": "markdown",
   "id": "6b4c5628",
   "metadata": {},
   "source": [
    "The less strict parameter set decodes about 40% more gene encoding barcodes at a cost of having twice the estimated false positive rate. Since the estimated false positive rate is still small, it is probably an acceptable trade off."
   ]
  },
  {
   "cell_type": "markdown",
   "id": "22795fa1",
   "metadata": {},
   "source": [
    "To save your results, use the ```CSV.write``` command."
   ]
  },
  {
   "cell_type": "code",
   "execution_count": null,
   "id": "9f37b619",
   "metadata": {},
   "outputs": [],
   "source": [
    "CSV.write(\"example_results.csv\", barcodes)"
   ]
  }
 ],
 "metadata": {
  "kernelspec": {
   "display_name": "Julia 1.7.3",
   "language": "julia",
   "name": "julia-1.7"
  },
  "language_info": {
   "file_extension": ".jl",
   "mimetype": "application/julia",
   "name": "julia",
   "version": "1.7.3"
  }
 },
 "nbformat": 4,
 "nbformat_minor": 5
}
